{
  "nbformat": 4,
  "nbformat_minor": 0,
  "metadata": {
    "colab": {
      "provenance": [],
      "authorship_tag": "ABX9TyPeDJre/XZGDiwFAQrBnU6y",
      "include_colab_link": true
    },
    "kernelspec": {
      "name": "python3",
      "display_name": "Python 3"
    },
    "language_info": {
      "name": "python"
    }
  },
  "cells": [
    {
      "cell_type": "markdown",
      "metadata": {
        "id": "view-in-github",
        "colab_type": "text"
      },
      "source": [
        "<a href=\"https://colab.research.google.com/github/Izabella-g-santos/AulaFCE/blob/main/Exemplo_02_07.ipynb\" target=\"_parent\"><img src=\"https://colab.research.google.com/assets/colab-badge.svg\" alt=\"Open In Colab\"/></a>"
      ]
    },
    {
      "cell_type": "code",
      "source": [
        "from dataclasses import dataclass\n",
        "\n",
        "@dataclass\n",
        "class CSTR_param:\n",
        "  F: float = 50.0 # L/min\n",
        "  V: float = 100.0 # L\n",
        "  k: float = 0.5 # 1/min\n",
        "\n",
        "def CSTR_model(CSTR_param, Ca_intlet):\n",
        "  Ca_outlet = (CSTR_param.F * Ca_intlet) / (CSTR_param.F + CSTR_param.k * CSTR_param.V)\n",
        "\n",
        "  return Ca_outlet\n",
        "\n",
        "def CSTR_series(lista_param, Ca_intlet):\n",
        "  conc = [Ca_intlet]\n",
        "  conv = []\n",
        "  for param in lista_param:\n",
        "    Ca_outlet = CSTR_model(param, Ca_intlet)\n",
        "    conv_local = 1 - Ca_outlet/conc[0]\n",
        "    conv.append(Ca_outlet)\n",
        "    conc.append(Ca_outlet)\n",
        "\n",
        "  return conc, conv\n"
      ],
      "metadata": {
        "id": "4hh_pQ7oAs4J"
      },
      "execution_count": 21,
      "outputs": []
    },
    {
      "cell_type": "code",
      "source": [
        "print(3*[10])"
      ],
      "metadata": {
        "colab": {
          "base_uri": "https://localhost:8080/"
        },
        "id": "JN67Tg11NTDB",
        "outputId": "9eedf81e-4157-4e57-9579-ec04c6deb1d4"
      },
      "execution_count": 22,
      "outputs": [
        {
          "output_type": "stream",
          "name": "stdout",
          "text": [
            "[10, 10, 10]\n"
          ]
        }
      ]
    },
    {
      "cell_type": "code",
      "source": [
        "#parametros do reator\n",
        "lista_param = 3*[CSTR_param()]\n",
        "Ca0 = 1.0\n",
        "\n",
        "#simulacao\n",
        "conc, conv = CSTR_series(lista_param, Ca0)\n",
        "print(conc, conv)"
      ],
      "metadata": {
        "colab": {
          "base_uri": "https://localhost:8080/"
        },
        "id": "ctDRTK5tM6m_",
        "outputId": "666c1245-e795-4c23-c82e-05165971daf5"
      },
      "execution_count": 25,
      "outputs": [
        {
          "output_type": "stream",
          "name": "stdout",
          "text": [
            "[1.0, 0.5, 0.5, 0.5] [0.5, 0.5, 0.5]\n"
          ]
        }
      ]
    },
    {
      "cell_type": "code",
      "source": [
        "#parametros do reator\n",
        "lista_param = [CSTR_param(F = 50, V = 200, k = 0.35),\n",
        "               CSTR_param(F = 50, V = 100, k = 0.35),\n",
        "               CSTR_param(F = 50, V = 50, k = 3.00)]\n",
        "Ca0 = 1.0\n",
        "\n",
        "#simulacao\n",
        "conc, conv = CSTR_series(lista_param, Ca0)\n",
        "print(conc, conv)"
      ],
      "metadata": {
        "colab": {
          "base_uri": "https://localhost:8080/"
        },
        "id": "N8K5jJ_fOOw1",
        "outputId": "4febe1b6-b12c-4315-c9ae-69da67477e4e"
      },
      "execution_count": 27,
      "outputs": [
        {
          "output_type": "stream",
          "name": "stdout",
          "text": [
            "[1.0, 0.4166666666666667, 0.5882352941176471, 0.25] [0.4166666666666667, 0.5882352941176471, 0.25]\n"
          ]
        }
      ]
    },
    {
      "cell_type": "code",
      "source": [
        "reator1 = CSTR_param() #vai ter os valores internos dentro dele do CSTR_param\n",
        "Ca0 = 1.0\n",
        "Ca1 = CSTR_model(reator1, Ca0)\n",
        "Ca2 = CSTR_model(reator1, Ca1)\n",
        "Ca3 = CSTR_model(reator1, Ca2)\n",
        "print(Ca0, Ca1, Ca2, Ca3)\n"
      ],
      "metadata": {
        "colab": {
          "base_uri": "https://localhost:8080/"
        },
        "id": "NXJqJz8sHpOP",
        "outputId": "c093f731-78c7-4135-a8be-69ba50870ec5"
      },
      "execution_count": 24,
      "outputs": [
        {
          "output_type": "stream",
          "name": "stdout",
          "text": [
            "1.0 0.5 0.25 0.125\n"
          ]
        }
      ]
    }
  ]
}